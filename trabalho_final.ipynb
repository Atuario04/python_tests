{
 "cells": [
  {
   "cell_type": "code",
   "execution_count": 3,
   "metadata": {},
   "outputs": [],
   "source": [
    "import os\n",
    "\n",
    "\n",
    "arquivo_cnpjs = \"C:\\\\Users\\\\03520806\\\\Documents\\\\SDP\\\\cnpj_tipo_valor.txt\"\n",
    "arquivo_aliquotas = \"C:\\\\Users\\\\03520806\\\\Documents\\\\SDP\\\\aliquota_por_estabelecimento.txt\"\n",
    "arquivo_saida = \"C:\\\\Users\\\\03520806\\\\Documents\\\\SDP\\\\resultado_final.txt\"\n",
    "\n",
    "\n",
    "tipo_aliquotas = {}\n",
    "with open(arquivo_aliquotas, 'r', encoding='utf-8') as f:\n",
    "    for line in f:\n",
    "        partes = line.strip().split(':')\n",
    "        if len(partes) == 2:\n",
    "            tipo, aliquota = partes\n",
    "            try:\n",
    "                tipo_aliquotas[tipo] = float(aliquota)\n",
    "            except ValueError:\n",
    "                pass  \n",
    "\n",
    "total_valor = 0\n",
    "total_aliquota = 0\n",
    "\n",
    "\n",
    "with open(arquivo_cnpjs, 'r', encoding='utf-8') as f_in, open(arquivo_saida, 'w', encoding='utf-8') as f_out:\n",
    "    for line in f_in:\n",
    "        partes = line.strip().split(':')\n",
    "        if len(partes) == 3:\n",
    "            cnpj, tipo, valor = partes\n",
    "            try:\n",
    "                valor = float(valor)\n",
    "                aliquota = tipo_aliquotas.get(tipo, 0)  \n",
    "                valor_calculado = valor * aliquota\n",
    "\n",
    "                total_valor += valor\n",
    "                total_aliquota += valor_calculado\n",
    "\n",
    "\n",
    "                f_out.write(f\"{cnpj}:{tipo}:{valor:.2f}:{valor_calculado:.2f}\\n\")\n",
    "            except ValueError:\n",
    "                pass  \n",
    "\n",
    "    f_out.write(f\"\\nTOTAL VALOR: {total_valor:.2f}\\n\")\n",
    "    f_out.write(f\"TOTAL ALÍQUOTAS: {total_aliquota:.2f}\\n\")"
   ]
  }
 ],
 "metadata": {
  "kernelspec": {
   "display_name": "base",
   "language": "python",
   "name": "python3"
  },
  "language_info": {
   "codemirror_mode": {
    "name": "ipython",
    "version": 3
   },
   "file_extension": ".py",
   "mimetype": "text/x-python",
   "name": "python",
   "nbconvert_exporter": "python",
   "pygments_lexer": "ipython3",
   "version": "3.12.4"
  }
 },
 "nbformat": 4,
 "nbformat_minor": 2
}
