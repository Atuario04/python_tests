{
 "cells": [
  {
   "cell_type": "code",
   "execution_count": 8,
   "metadata": {},
   "outputs": [
    {
     "name": "stdout",
     "output_type": "stream",
     "text": [
      "Total de CNPJs válidos: 3549\n",
      "Total de CNPJs inválidos: 2\n"
     ]
    }
   ],
   "source": [
    "import os\n",
    "\n",
    "directory = \"C:\\\\Users\\\\03520806\\\\Documents\\\\SDP\"  \n",
    "output_valid = \"C:\\\\Users\\\\03520806\\\\Documents\\\\cnpjs_validos.txt\"\n",
    "output_invalid = \"C:\\\\Users\\\\03520806\\\\Documents\\\\cnpjs_invalidos.txt\"\n",
    "output_folder = \"C:\\\\Users\\\\03520806\\\\Documents\\\\Valida_API\"\n",
    "\n",
    "os.makedirs(output_folder, exist_ok=True)\n",
    "\n",
    "cnpjs_validos = set()\n",
    "cnpjs_invalidos = set()\n",
    "    \n",
    "\n",
    "for file_name in os.listdir(directory):\n",
    "    file_path = os.path.join(directory, file_name)\n",
    "            \n",
    "    if os.path.isfile(file_path):\n",
    "         with open(file_path, 'r', encoding='latin-1') as file:\n",
    "            for line in file:\n",
    "                cnpj = line[520:534].strip()\n",
    "\n",
    "                if cnpj.isdigit() and len(cnpj) == 14:  \n",
    "                    cnpjs_validos.add(cnpj)  \n",
    "                else:\n",
    "                    cnpjs_invalidos.add(cnpj)  \n",
    "\n",
    "with open(output_valid, 'w', encoding='utf-8') as valid_file:\n",
    "    for cnpj in sorted(cnpjs_validos):\n",
    "        valid_file.write(f\"{cnpj}\\n\")\n",
    "\n",
    "with open(output_invalid, 'w', encoding='utf-8') as invalid_file:\n",
    "    for cnpj in sorted(cnpjs_invalidos):\n",
    "        invalid_file.write(f\"{cnpj}\\n\")\n",
    "\n",
    "cnpjs_validos = sorted(cnpjs_validos) \n",
    "limite = 175\n",
    "num_files = (len(cnpjs_validos) // limite) + (1 if len(cnpjs_validos) % limite != 0 else 0)\n",
    "\n",
    "for i in range(num_files):\n",
    "    start = i * limite\n",
    "    end = start + limite\n",
    "    chunk = cnpjs_validos[start:end]\n",
    "\n",
    "    file_name = os.path.join(output_folder, f\"cnpjs_{i+1}.txt\")\n",
    "\n",
    "    with open(file_name, 'w', encoding='utf-8') as file:\n",
    "        for cnpj in chunk:\n",
    "            file.write(f\"{cnpj}\\n\")\n",
    "\n",
    "\n",
    "print(f\"Total de CNPJs válidos: {len(cnpjs_validos)}\")\n",
    "print(f\"Total de CNPJs inválidos: {len(cnpjs_invalidos)}\")"
   ]
  }
 ],
 "metadata": {
  "kernelspec": {
   "display_name": "base",
   "language": "python",
   "name": "python3"
  },
  "language_info": {
   "codemirror_mode": {
    "name": "ipython",
    "version": 3
   },
   "file_extension": ".py",
   "mimetype": "text/x-python",
   "name": "python",
   "nbconvert_exporter": "python",
   "pygments_lexer": "ipython3",
   "version": "3.12.4"
  }
 },
 "nbformat": 4,
 "nbformat_minor": 2
}
