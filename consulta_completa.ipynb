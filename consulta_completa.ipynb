{
 "cells": [
  {
   "cell_type": "code",
   "execution_count": null,
   "metadata": {},
   "outputs": [
    {
     "name": "stdout",
     "output_type": "stream",
     "text": [
      "Total de CNPJs válidos: 695\n",
      "Total de CNPJs inválidos: 0\n"
     ]
    }
   ],
   "source": [
    "import os\n",
    "\n",
    "directory = \"C:\\\\Users\\\\03520806\\\\Documents\\\\SDP\"  \n",
    "output_valid = \"C:\\\\Users\\\\03520806\\\\Documents\\\\cnpjs_validos.txt\"\n",
    "output_invalid = \"C:\\\\Users\\\\03520806\\\\Documents\\\\cnpjs_invalidos.txt\"\n",
    "output_folder = \"C:\\\\Users\\\\03520806\\\\Documents\\\\Valida_API_2\"\n",
    "output_file = os.path.join(output_folder, \"cnpjs_completos.txt\")\n",
    "\n",
    "os.makedirs(output_folder, exist_ok=True)\n",
    "\n",
    "cnpjs_validos = []\n",
    "cnpjs_invalidos = set()\n",
    "    \n",
    "for file_name in os.listdir(directory):\n",
    "    file_path = os.path.join(directory, file_name)\n",
    "            \n",
    "    if os.path.isfile(file_path):\n",
    "        with open(file_path, 'r', encoding='latin-1') as file:\n",
    "            for line in file:\n",
    "                if line.startswith('4') and line[338:340].strip().startswith('D'):\n",
    "                    cnpj = line[520:534].strip()\n",
    "                    valor = line[174:190].lstrip('0') or '0'\n",
    "                    cod_ativ = line[195:200].strip()\n",
    "                    \n",
    "                    if cnpj.isdigit() and len(cnpj) == 14:  \n",
    "                        cnpjs_validos.append(f\"{cnpj}:{valor}:{cod_ativ}\")  \n",
    "                    else:\n",
    "                        cnpjs_invalidos.add(cnpj)  \n",
    "\n",
    "with open(output_valid, 'w', encoding='utf-8') as valid_file:\n",
    "    for entry in sorted(cnpjs_validos):\n",
    "        valid_file.write(f\"{entry}\\n\")\n",
    "\n",
    "with open(output_invalid, 'w', encoding='utf-8') as invalid_file:\n",
    "    for cnpj in sorted(cnpjs_invalidos):\n",
    "        invalid_file.write(f\"{cnpj}\\n\")\n",
    "\n",
    "with open(output_file, 'w', encoding='utf-8') as complete_file:\n",
    "    for entry in sorted(cnpjs_validos):\n",
    "        complete_file.write(f\"{entry}\\n\")\n",
    "\n",
    "print(f\"Total de CNPJs válidos: {len(cnpjs_validos)}\")\n",
    "print(f\"Total de CNPJs inválidos: {len(cnpjs_invalidos)}\")\n"
   ]
  }
 ],
 "metadata": {
  "kernelspec": {
   "display_name": "base",
   "language": "python",
   "name": "python3"
  },
  "language_info": {
   "codemirror_mode": {
    "name": "ipython",
    "version": 3
   },
   "file_extension": ".py",
   "mimetype": "text/x-python",
   "name": "python",
   "nbconvert_exporter": "python",
   "pygments_lexer": "ipython3",
   "version": "3.12.4"
  }
 },
 "nbformat": 4,
 "nbformat_minor": 2
}
