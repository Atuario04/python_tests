{
 "cells": [
  {
   "cell_type": "code",
   "execution_count": 5,
   "metadata": {},
   "outputs": [
    {
     "name": "stdout",
     "output_type": "stream",
     "text": [
      "Total de transações que começam com '4': 37957\n",
      "Total de transações com CNPJ '00000000000000': 3\n"
     ]
    }
   ],
   "source": [
    "import os\n",
    "\n",
    "directory = \"C:\\\\Users\\\\03520806\\\\Documents\\\\SDP\"  \n",
    "output_file = \"C:\\\\Users\\\\03520806\\\\Documents\\\\SDP\\\\transacoes_cnpj_impar.txt\"\n",
    "\n",
    "total_transacoes = 0\n",
    "transacoes_cnpj_zero = 0\n",
    "linhas_cnpj_zero = []\n",
    "\n",
    "for file_name in os.listdir(directory):\n",
    "    file_path = os.path.join(directory, file_name)\n",
    "\n",
    "    if os.path.isfile(file_path):\n",
    "        with open(file_path, 'r', encoding='latin-1') as file:\n",
    "            for line in file:\n",
    "                if line.startswith('4') and line[338:340].strip().startswith('D'):  \n",
    "                    total_transacoes += 1  \n",
    "                    \n",
    "                    cnpj = line[520:534].strip()\n",
    "                    if cnpj == \"00006923952700\":\n",
    "                        transacoes_cnpj_zero += 1  \n",
    "                        linhas_cnpj_zero.append(line)  \n",
    "\n",
    "\n",
    "with open(output_file, 'w', encoding='utf-8') as f:\n",
    "    for linha in linhas_cnpj_zero:\n",
    "        f.write(linha)\n",
    "\n",
    "print(f\"Total de transações que começam com '4': {total_transacoes}\")\n",
    "print(f\"Total de transações com CNPJ '00000000000000': {transacoes_cnpj_zero}\")\n"
   ]
  }
 ],
 "metadata": {
  "kernelspec": {
   "display_name": "base",
   "language": "python",
   "name": "python3"
  },
  "language_info": {
   "codemirror_mode": {
    "name": "ipython",
    "version": 3
   },
   "file_extension": ".py",
   "mimetype": "text/x-python",
   "name": "python",
   "nbconvert_exporter": "python",
   "pygments_lexer": "ipython3",
   "version": "3.12.4"
  }
 },
 "nbformat": 4,
 "nbformat_minor": 2
}
