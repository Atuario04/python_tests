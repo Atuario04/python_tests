{
 "cells": [
  {
   "cell_type": "code",
   "execution_count": 9,
   "metadata": {},
   "outputs": [
    {
     "name": "stdout",
     "output_type": "stream",
     "text": [
      "Total de tipos de estabelecimento únicos: 166\n"
     ]
    }
   ],
   "source": [
    "import os\n",
    "\n",
    "directory = \"C:\\\\Users\\\\03520806\\\\Documents\\\\SDP\"\n",
    "output_file = \"C:\\\\Users\\\\03520806\\\\Documents\\\\SDP\\\\somatorio_tipos.txt\"\n",
    "\n",
    "tipos_estabelecimento = set()\n",
    "soma_por_tipo = {}  \n",
    "\n",
    "for file_name in os.listdir(directory):\n",
    "    file_path = os.path.join(directory, file_name)\n",
    "    \n",
    "    if os.path.isfile(file_path):\n",
    "        with open(file_path, 'r', encoding='latin-1') as file:\n",
    "            for line in file:\n",
    "                if line.startswith('4') and line[338:340].strip().startswith('D'):\n",
    "                    tipo = line[195:200].strip()\n",
    "                    valor_inteiro = line[174:190].strip()\n",
    "\n",
    "                \n",
    "                    if valor_inteiro.isdigit():\n",
    "                        valor = float(valor_inteiro) / 100 \n",
    "                    else:\n",
    "                        valor = 0  \n",
    "\n",
    "                    if tipo:\n",
    "                        tipos_estabelecimento.add(tipo)  \n",
    "                        soma_por_tipo[tipo] = soma_por_tipo.get(tipo, 0) + valor  \n",
    "\n",
    "\n",
    "with open(output_file, 'w', encoding='utf-8') as file:\n",
    "    for tipo in sorted(tipos_estabelecimento):\n",
    "        total = soma_por_tipo.get(tipo, 0)  \n",
    "        file.write(f\"{tipo}: {total:.2f}\\n\") \n",
    "\n",
    "    total_geral = sum(soma_por_tipo.values())\n",
    "    file.write(f\"\\nTotal Geral: {total_geral:.2f}\\n\")  \n",
    "\n",
    "print(f\"Total de tipos de estabelecimento únicos: {len(tipos_estabelecimento)}\")\n",
    "\n",
    "\n"
   ]
  }
 ],
 "metadata": {
  "kernelspec": {
   "display_name": "base",
   "language": "python",
   "name": "python3"
  },
  "language_info": {
   "codemirror_mode": {
    "name": "ipython",
    "version": 3
   },
   "file_extension": ".py",
   "mimetype": "text/x-python",
   "name": "python",
   "nbconvert_exporter": "python",
   "pygments_lexer": "ipython3",
   "version": "3.12.4"
  }
 },
 "nbformat": 4,
 "nbformat_minor": 2
}
