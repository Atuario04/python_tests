{
 "cells": [
  {
   "cell_type": "code",
   "execution_count": 7,
   "metadata": {},
   "outputs": [
    {
     "name": "stdout",
     "output_type": "stream",
     "text": [
      "Total de CNPJs optantes do Simples Nacional (True): 1860\n",
      "Total de CNPJs não optantes do Simples Nacional (False): 1013\n",
      "Total de CPFs : 676\n"
     ]
    }
   ],
   "source": [
    "import os\n",
    "\n",
    "pasta_arquivos = \"C:\\\\Users\\\\03520806\\\\Documents\\\\SDP\\\\Teste\"\n",
    "\n",
    "arquivo_true = \"optantes_simples.txt\"\n",
    "arquivo_false = \"nao_optantes_simples.txt\"\n",
    "arquivo_cpf = \"possiveis_cpf.txt\"\n",
    "\n",
    "optantes = []\n",
    "nao_optantes = []\n",
    "CPF = []\n",
    "\n",
    "for nome_arquivo in os.listdir(pasta_arquivos):\n",
    "    if nome_arquivo.endswith(\".txt\"):\n",
    "        caminho_arquivo = os.path.join(pasta_arquivos, nome_arquivo)\n",
    "        \n",
    "        with open(caminho_arquivo, \"r\", encoding=\"ISO-8859-1\", errors=\"replace\") as f:\n",
    "            for linha in f:\n",
    "                linha = linha.strip()\n",
    "                if linha[15:16].strip() == \"T\":\n",
    "                    optantes.append(linha)\n",
    "                elif linha[15:16].strip() == \"F\":\n",
    "                    nao_optantes.append(linha)\n",
    "                else :\n",
    "                    CPF.append(linha)\n",
    "\n",
    "with open(arquivo_true, \"w\", encoding=\"utf-8\") as f:\n",
    "    f.write(\"\\n\".join(optantes))\n",
    "\n",
    "with open(arquivo_false, \"w\", encoding=\"utf-8\") as f:\n",
    "    f.write(\"\\n\".join(nao_optantes))\n",
    "\n",
    "with open(arquivo_cpf, \"w\", encoding=\"utf-8\") as f:\n",
    "    f.write(\"\\n\".join(CPF))\n",
    "\n",
    "print(f\"Total de CNPJs optantes do Simples Nacional (True): {len(optantes)}\")\n",
    "print(f\"Total de CNPJs não optantes do Simples Nacional (False): {len(nao_optantes)}\")\n",
    "print(f\"Total de CPFs : {len(CPF)}\")\n"
   ]
  }
 ],
 "metadata": {
  "kernelspec": {
   "display_name": "base",
   "language": "python",
   "name": "python3"
  },
  "language_info": {
   "codemirror_mode": {
    "name": "ipython",
    "version": 3
   },
   "file_extension": ".py",
   "mimetype": "text/x-python",
   "name": "python",
   "nbconvert_exporter": "python",
   "pygments_lexer": "ipython3",
   "version": "3.12.4"
  }
 },
 "nbformat": 4,
 "nbformat_minor": 2
}
