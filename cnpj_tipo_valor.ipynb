{
 "cells": [
  {
   "cell_type": "code",
   "execution_count": null,
   "metadata": {},
   "outputs": [],
   "source": [
    "import os\n",
    "\n",
    "directory = \"C:\\\\Users\\\\03520806\\\\Documents\\\\SDP\"  \n",
    "cnpj_file = \"C:\\\\Users\\\\03520806\\\\Documents\\\\SDP\\\\Situação Simples Nacional\\\\nao_optantes_simples.txt\"\n",
    "output_file = \"C:\\\\Users\\\\03520806\\\\Documents\\\\SDP\\\\resultado_soma.txt\"\n",
    "\n",
    "\n",
    "with open(cnpj_file, 'r', encoding='utf-8') as f:\n",
    "    cnpjs_interesse = set(line.split(':')[0].strip() for line in f if line.strip())\n",
    "\n",
    "\n",
    "somas_cnpjs = {}\n",
    "\n",
    "\n",
    "for file_name in os.listdir(directory):\n",
    "    file_path = os.path.join(directory, file_name)\n",
    "    \n",
    "    if os.path.isfile(file_path):\n",
    "        with open(file_path, 'r', encoding='latin-1') as file:\n",
    "            for line in file:\n",
    "                if line.startswith('4') and line[338:340].strip().startswith('D'):\n",
    "                    cnpj = line[520:534].strip()\n",
    "                    tipo_estabelecimento = line[195:200].strip()\n",
    "                    \n",
    "                    if cnpj in cnpjs_interesse:\n",
    "                        if cnpj not in somas_cnpjs or not isinstance(somas_cnpjs[cnpj], list):\n",
    "                            somas_cnpjs[cnpj] = [0, \"\"]  \n",
    "                        \n",
    "                        valor_inteiro = line[174:190].strip()\n",
    "                        try:\n",
    "                            valor = float(valor_inteiro) / 100\n",
    "                            somas_cnpjs[cnpj][0] += valor\n",
    "                            if not somas_cnpjs[cnpj][1]:  \n",
    "                                somas_cnpjs[cnpj][1] = tipo_estabelecimento  \n",
    "                        except ValueError:\n",
    "                            pass  \n",
    "\n",
    "\n",
    "if '00000000000000' in somas_cnpjs and isinstance(somas_cnpjs['00000000000000'], list):\n",
    "    somas_cnpjs['00000000000000'][0] /= 2\n",
    "\n",
    "total_geral = sum(valor[0] for valor in somas_cnpjs.values() if isinstance(valor, list))\n",
    "\n",
    "\n",
    "with open(output_file, 'w', encoding='utf-8') as f:\n",
    "    for cnpj, (total, tipo) in somas_cnpjs.items():\n",
    "        if isinstance(total, (int, float)) and isinstance(tipo, str): \n",
    "            f.write(f\"{cnpj}:{tipo}:{total:.2f}\\n\")\n",
    "    f.write(f\"Total Geral:{total_geral:.2f}\\n\")"
   ]
  }
 ],
 "metadata": {
  "kernelspec": {
   "display_name": "base",
   "language": "python",
   "name": "python3"
  },
  "language_info": {
   "codemirror_mode": {
    "name": "ipython",
    "version": 3
   },
   "file_extension": ".py",
   "mimetype": "text/x-python",
   "name": "python",
   "nbconvert_exporter": "python",
   "pygments_lexer": "ipython3",
   "version": "3.12.4"
  }
 },
 "nbformat": 4,
 "nbformat_minor": 2
}
